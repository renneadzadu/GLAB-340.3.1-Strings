{
 "cells": [
  {
   "cell_type": "code",
   "execution_count": 4,
   "metadata": {},
   "outputs": [
    {
     "name": "stdout",
     "output_type": "stream",
     "text": [
      "<class 'dict'>\n",
      "<class 'tuple'>\n",
      "<class 'list'>\n"
     ]
    }
   ],
   "source": [
    "x = {}\n",
    "print(type(x))\n",
    "\n",
    "x = ()\n",
    "print(type(x))\n",
    "\n",
    "x = []\n",
    "print(type(x))\n"
   ]
  },
  {
   "attachments": {},
   "cell_type": "markdown",
   "metadata": {},
   "source": [
    "- [ ] The game will ask the user to enter a word.\n",
    "- [ ] The program will print the length of the word.\n",
    "- [ ] The program will print the word in uppercase and lowercase.\n",
    "- [ ] The program will ask the user to enter a letter and count how many times that letter appears in the word.\n",
    "- [ ] The program will ask the user to enter a substring and count how many times that substring appears in the word.\n",
    "- [ ] The program will reverse the word and print the result.\n",
    "- [ ] The program will ask the user to enter a starting and ending index, and then slice the word and print the result.\n",
    "- [ ] The program will ask the user to enter a character and replace the first occurrence of that character with another character.\n",
    "- [ ] The program will concatenate the original word with a second word entered by the user.\n",
    "- [ ] The program will check if the original word is a palindrome (i.e., it reads the same forward and backward).\n",
    "- [ ] The program will check if the original word is a valid Python identifier (i.e., it starts with a letter or underscore, and only contains letters, digits, and underscores).\n",
    "\n"
   ]
  },
  {
   "cell_type": "code",
   "execution_count": 16,
   "metadata": {},
   "outputs": [],
   "source": [
    "word = input(\"enter a word \")\n",
    "\n",
    "print(\"length of word \", len(word))\n",
    "print(word.upper())\n",
    "print(word.lower())\n",
    "\n",
    "letter = input(\"enter a letter \")\n",
    "for y in word:\n",
    "    if letter in y:\n",
    "        letter = letter + 1\n",
    "        print(letter)\n",
    "    else: \n",
    "        print(letter + \" doesnt exist\")\n"
   ]
  },
  {
   "attachments": {},
   "cell_type": "markdown",
   "metadata": {},
   "source": [
    "```\n",
    "Enter a word: python\n",
    "Length of word: 6\n",
    "Uppercase: PYTHON\n",
    "Lowercase: python\n",
    "Enter a letter: t\n",
    "'t' appears 1 time(s) in 'python'\n",
    "Enter a substring: th\n",
    "'sth' appears 0 time(s) in 'python'\n",
    "Reverse: nohtyp\n",
    "Enter a starting index: 2\n",
    "Enter an ending index: 5\n",
    "Sliced word: tho\n",
    "Enter a character to replace: p\n",
    "Enter the replacement character: x\n",
    "Replaced: xython\n",
    "Enter a second word: rocks\n",
    "Concatenated: pythonrocks\n",
    "Is a palindrome? No\n",
    "Is a valid Python identifier? Yes\n",
    "\n",
    "```"
   ]
  }
 ],
 "metadata": {
  "kernelspec": {
   "display_name": "Python 3",
   "language": "python",
   "name": "python3"
  },
  "language_info": {
   "codemirror_mode": {
    "name": "ipython",
    "version": 3
   },
   "file_extension": ".py",
   "mimetype": "text/x-python",
   "name": "python",
   "nbconvert_exporter": "python",
   "pygments_lexer": "ipython3",
   "version": "3.10.10"
  },
  "orig_nbformat": 4
 },
 "nbformat": 4,
 "nbformat_minor": 2
}
